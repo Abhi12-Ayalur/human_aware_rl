{
 "cells": [
  {
   "cell_type": "markdown",
   "metadata": {},
   "source": [
    "# Agent Evaluation Visualization\n",
    "This notebook will let you visualize agent pair's performance (score distributions)"
   ]
  },
  {
   "cell_type": "markdown",
   "metadata": {},
   "source": [
    "#### Direction: If you would like to train/obtain custom AI / human model agents, please look into \n",
    "####          human_aware_rl/human_aware_rl/ppo/ppo_rllib_client.py, and \n",
    "####          human_aware_rl/human_aware_rl/imitation/behavior_cloning_tf2.py"
   ]
  },
  {
   "cell_type": "markdown",
   "metadata": {},
   "source": [
    "## Premilinary imports and directory setups\n",
    "#### Direction: You should run the following two cells regardless of which option you are using"
   ]
  },
  {
   "cell_type": "code",
   "execution_count": 1,
   "metadata": {
    "scrolled": true
   },
   "outputs": [],
   "source": [
    "import numpy as np\n",
    "import pickle\n",
    "import matplotlib\n",
    "import matplotlib.pyplot as plt\n",
    "import math\n",
    "import time\n",
    "import itertools\n",
    "from os import makedirs\n",
    "from ray.tune.result import DEFAULT_RESULTS_DIR\n",
    "from plot_utils import coloring_patches, plot_matrix, plot_single, plot_matrix_aug, plot_for_all_pairs, plot_sparse_rew_over_agent_pairs, plot_mean_std\n",
    "from ipy_utils import parse_str_to_lst\n",
    "from eval_utils import SAVE_DIR"
   ]
  },
  {
   "cell_type": "code",
   "execution_count": 2,
   "metadata": {
    "scrolled": true
   },
   "outputs": [],
   "source": [
    "# The path to stress_testing folder\n",
    "LOAD_PATH = SAVE_DIR\n",
    "\n",
    "# Whether to save the figures generated\n",
    "SAVE_FIG = True\n"
   ]
  },
  {
   "cell_type": "markdown",
   "metadata": {},
   "source": [
    "#### Direction: Now you should feel free to jump to the option you would like to run."
   ]
  },
  {
   "cell_type": "markdown",
   "metadata": {},
   "source": [
    "## Option 1: Fixed Layout from names, Mixed Play"
   ]
  },
  {
   "cell_type": "markdown",
   "metadata": {},
   "source": [
    "### Step 0: Import"
   ]
  },
  {
   "cell_type": "code",
   "execution_count": 3,
   "metadata": {},
   "outputs": [],
   "source": [
    "from ipy_utils import generate_eval_form_option_1, generate_eval_command_option_1, generate_visual_form_option_1, generate_visual_params_option_1"
   ]
  },
  {
   "cell_type": "markdown",
   "metadata": {},
   "source": [
    "### Step 1: Input Evaluation Preference"
   ]
  },
  {
   "cell_type": "code",
   "execution_count": 4,
   "metadata": {
    "scrolled": true
   },
   "outputs": [
    {
     "data": {
      "application/vnd.jupyter.widget-view+json": {
       "model_id": "c1047a0a1d9c445a893e10ef21b5b31f",
       "version_major": 2,
       "version_minor": 0
      },
      "text/plain": [
       "Box(children=(Box(children=(Label(value='layout_name'), Text(value='cramped_room', placeholder='type the layou…"
      ]
     },
     "metadata": {},
     "output_type": "display_data"
    }
   ],
   "source": [
    "eval_form_option_1 = generate_eval_form_option_1()\n",
    "eval_form_option_1"
   ]
  },
  {
   "cell_type": "markdown",
   "metadata": {},
   "source": [
    "### Step 2: Generate command for evaluate.py"
   ]
  },
  {
   "cell_type": "code",
   "execution_count": 6,
   "metadata": {},
   "outputs": [
    {
     "name": "stdout",
     "output_type": "stream",
     "text": [
      "Evaluation params for option 1 {'layout_name': 'cramped_room', 'num_games': 1, 'mixed_play': True, 'ppo_sp_baseline_lst': ['11', '21', '31', '41'], 'custom_ai_cp_path_lst': []}\n",
      "=========\n",
      "Please run the following commands:\n",
      "---------\n",
      "conda activate harl_rllib\n",
      "python evaluate.py -l cramped_room -n 1 -m True -b 11 21 31 41 \n"
     ]
    }
   ],
   "source": [
    "eval_params_option_1 = generate_eval_command_option_1(eval_form_option_1)"
   ]
  },
  {
   "cell_type": "markdown",
   "metadata": {},
   "source": [
    "### Step 3: Visualization Preference"
   ]
  },
  {
   "cell_type": "code",
   "execution_count": 7,
   "metadata": {
    "scrolled": false
   },
   "outputs": [
    {
     "data": {
      "application/vnd.jupyter.widget-view+json": {
       "model_id": "ee7e2581e3a3488fa2002b3c329683f8",
       "version_major": 2,
       "version_minor": 0
      },
      "text/plain": [
       "Box(children=(Box(children=(Label(value='load_path'), Text(value='data/', placeholder='Enter the load path. De…"
      ]
     },
     "metadata": {},
     "output_type": "display_data"
    }
   ],
   "source": [
    "visial_form_option_1 = generate_visual_form_option_1(LOAD_PATH, str(SAVE_FIG))\n",
    "visial_form_option_1"
   ]
  },
  {
   "cell_type": "markdown",
   "metadata": {},
   "source": [
    "### Step 4: Get Visualization Params"
   ]
  },
  {
   "cell_type": "code",
   "execution_count": 8,
   "metadata": {
    "scrolled": true
   },
   "outputs": [
    {
     "name": "stdout",
     "output_type": "stream",
     "text": [
      "visual_params_option_1:  {'load_path': 'data/', 'data_timestamp': '1601959366.341098', 'custom_ai_cp_display_lst': [], 'save_fig': True}\n"
     ]
    }
   ],
   "source": [
    "visual_params_option_1 = generate_visual_params_option_1(visial_form_option_1)\n",
    "\n",
    "print(\"visual_params_option_1: \", visual_params_option_1)"
   ]
  },
  {
   "cell_type": "markdown",
   "metadata": {},
   "source": [
    "### Step 5: Process Visualization Params"
   ]
  },
  {
   "cell_type": "code",
   "execution_count": 9,
   "metadata": {},
   "outputs": [
    {
     "name": "stdout",
     "output_type": "stream",
     "text": [
      "agent_display_option_1:  ['11', '21', '31', '41']\n",
      "agent_pair_display_option_1:  ['11\\n+\\n11', '11\\n+\\n21', '11\\n+\\n31', '11\\n+\\n41', '21\\n+\\n11', '21\\n+\\n21', '21\\n+\\n31', '21\\n+\\n41', '31\\n+\\n11', '31\\n+\\n21', '31\\n+\\n31', '31\\n+\\n41', '41\\n+\\n11', '41\\n+\\n21', '41\\n+\\n31', '41\\n+\\n41']\n"
     ]
    }
   ],
   "source": [
    "# initialize the agent display names\n",
    "agent_display_option_1 = []\n",
    "\n",
    "# if you use the baseline agents, we denote them by the random seed\n",
    "agent_display_option_1 = agent_display_option_1 + eval_params_option_1['ppo_sp_baseline_lst']\n",
    "\n",
    "# if you use custom checkpoints, we denote them by the last 2 letters\n",
    "if len(visual_params_option_1[\"custom_ai_cp_display_lst\"]) > 0:\n",
    "    # if custom display is used, verify the lengths match up\n",
    "    assert len(visual_params_option_1[\"custom_ai_cp_display_lst\"]) == len(eval_params_option_1[\"custom_ai_cp_path_lst\"]), \"mismatch between length of display_name and path, display_name has length %d and path has length %d\" %(len(visual_params_option_1[\"custom_ai_cp_display_lst\"]), len(eval_params[\"custom_ai_cp_path_lst\"]))\n",
    "    custom_ai_display = visual_params_option_1[\"custom_ai_cp_display_lst\"]\n",
    "else:\n",
    "    # else, use the last two letters of the experiment name\n",
    "    custom_ai_display = [custom_cp_path.split('/')[-3][-2:] for custom_cp_path in eval_params_option_1[\"custom_ai_cp_path_lst\"]]\n",
    "\n",
    "agent_display_option_1 = agent_display_option_1 + custom_ai_display\n",
    "\n",
    "print(\"agent_display_option_1: \", agent_display_option_1)\n",
    "\n",
    "# The display name of the agent pairs\n",
    "if eval_params_option_1[\"mixed_play\"]:\n",
    "    agent_pair_display_option_1 = [a + \"\\n+\\n\" + b for a, b in itertools.product(agent_display_option_1, agent_display_option_1)]\n",
    "else:\n",
    "    agent_pair_display_option_1 = [a + \"\\n+\\n\" + a for a in agent_display_option_1]\n",
    "    \n",
    "print(\"agent_pair_display_option_1: \", agent_pair_display_option_1)\n",
    "\n",
    "# save_fig\n",
    "save_fig = visual_params_option_1[\"save_fig\"]"
   ]
  },
  {
   "cell_type": "code",
   "execution_count": 10,
   "metadata": {
    "scrolled": true
   },
   "outputs": [
    {
     "name": "stdout",
     "output_type": "stream",
     "text": [
      "['11', '21', '31', '41']\n"
     ]
    },
    {
     "data": {
      "image/png": "[encoded data removed]",
      "text/plain": [
       "<Figure size 324x324 with 1 Axes>"
      ]
     },
     "metadata": {
      "needs_background": "light"
     },
     "output_type": "display_data"
    },
    {
     "data": {
      "image/png": "[encoded data removed]",
      "text/plain": [
       "<Figure size 360x360 with 1 Axes>"
      ]
     },
     "metadata": {
      "needs_background": "light"
     },
     "output_type": "display_data"
    },
    {
     "data": {
      "image/png": "[encoded data removed]",
      "text/plain": [
       "<Figure size 360x360 with 1 Axes>"
      ]
     },
     "metadata": {
      "needs_background": "light"
     },
     "output_type": "display_data"
    }
   ],
   "source": [
    "## Data loading\n",
    "\n",
    "layout_name = eval_params_option_1[\"layout_name\"]\n",
    "\n",
    "# Whether the evaulation is mixed-play\n",
    "mixed_play = eval_params_option_1[\"mixed_play\"]\n",
    "\n",
    "# how to display the agent\n",
    "agent_display = agent_display_option_1\n",
    "\n",
    "# how to display agent pairs\n",
    "agent_pair_display = agent_pair_display_option_1\n",
    "\n",
    "# The path to stress_testing folder\n",
    "load_path = visual_params_option_1[\"load_path\"]\n",
    "\n",
    "# The time of the run\n",
    "time_run = visual_params_option_1[\"data_timestamp\"]\n",
    "\n",
    "# Load numpy data\n",
    "data_file = 'data' + time_run + '.npz'\n",
    "data= np.load(load_path+data_file)\n",
    "\n",
    "# Load layouts for display\n",
    "layouts_file = 'layouts' + time_run + '.pkl'\n",
    "with open(load_path+layouts_file, 'rb') as f:\n",
    "    layouts = pickle.load(f)\n",
    "layout = layouts[0]\n",
    "\n",
    "# Load numpy data into the appropriate arrays\n",
    "# index 0 because there is only 1 layout\n",
    "sparse_reward_lst = data['sparse_reward_lst'][0]\n",
    "sparse_reward_mean = data['sparse_reward_mean_lst'][0]\n",
    "sparse_reward_std = data['sparse_reward_std_lst'][0]\n",
    "\n",
    "\n",
    "num_agent = len(agent_display)\n",
    "\n",
    "if mixed_play:\n",
    "    assert len(agent_display) == math.sqrt(len(sparse_reward_mean)), \"If you are not evaluating on mixed_play, please set the flag to False in the first form\"\n",
    "    sparse_reward_mean = np.reshape(sparse_reward_mean, (num_agent, num_agent))\n",
    "    plot_matrix(agent_display, agent_display, sparse_reward_mean, \"mean score\", layout_name, save_fig=save_fig)\n",
    "\n",
    "else:\n",
    "    plot_single(sparse_reward_mean, sparse_reward_std, agent_pair_display, layout_name, save_fig=save_fig)\n",
    "\n",
    "sparse_rew = sparse_reward_lst.flatten()\n",
    "NUM_COLORS = int(np.max(sparse_rew) // 20) + 2\n",
    "# create the bins\n",
    "bins = [x * 20 for x in range(NUM_COLORS)]\n",
    "plot_for_all_pairs(sparse_rew, layout_name, bins, save_fig=save_fig)\n",
    "\n",
    "layout_info = {\"layout_name\": layout_name}\n",
    "plot_sparse_rew_over_agent_pairs(sparse_reward_lst, agent_pair_display, layout_info, bins[1:], save_fig=save_fig)\n"
   ]
  },
  {
   "cell_type": "markdown",
   "metadata": {},
   "source": [
    "## Option 2: Evaluate with Human Model"
   ]
  },
  {
   "cell_type": "markdown",
   "metadata": {},
   "source": [
    "### Step 0: Import"
   ]
  },
  {
   "cell_type": "code",
   "execution_count": 11,
   "metadata": {},
   "outputs": [],
   "source": [
    "from ipy_utils import generate_eval_form_option_2, generate_eval_command_option_2, generate_visual_form_option_2, generate_visual_params_option_2"
   ]
  },
  {
   "cell_type": "markdown",
   "metadata": {},
   "source": [
    "### Step 1: Input Evaluation Preference"
   ]
  },
  {
   "cell_type": "code",
   "execution_count": 12,
   "metadata": {},
   "outputs": [
    {
     "data": {
      "application/vnd.jupyter.widget-view+json": {
       "model_id": "d0a6f573ad3d438791e9787274be8af7",
       "version_major": 2,
       "version_minor": 0
      },
      "text/plain": [
       "Box(children=(Box(children=(Label(value='layout_name'), Text(value='cramped_room', placeholder='type the layou…"
      ]
     },
     "metadata": {},
     "output_type": "display_data"
    }
   ],
   "source": [
    "eval_form_option_2 = generate_eval_form_option_2()\n",
    "eval_form_option_2"
   ]
  },
  {
   "cell_type": "markdown",
   "metadata": {},
   "source": [
    "### Step 2: Generate command for evaluate.py"
   ]
  },
  {
   "cell_type": "code",
   "execution_count": 13,
   "metadata": {},
   "outputs": [
    {
     "name": "stdout",
     "output_type": "stream",
     "text": [
      "Evaluation params for option 1 {'layout_name': 'cramped_room', 'num_games': 1, 'ppo_sp_baseline_lst': ['11', '21', '31', '41'], 'include_greedy_human': True, 'custom_ai_cp_path_lst': [], 'custom_h_cp_path_lst': []}\n",
      "=========\n",
      "Please run the following commands:\n",
      "---------\n",
      "conda activate harl_rllib\n",
      "python evaluate.py -l cramped_room -n 1 -b 11 21 31 41 -g True  \n"
     ]
    }
   ],
   "source": [
    "eval_params_option_2 = generate_eval_command_option_2(eval_form_option_2)"
   ]
  },
  {
   "cell_type": "markdown",
   "metadata": {},
   "source": [
    "### Step 3: Visualization Preference"
   ]
  },
  {
   "cell_type": "code",
   "execution_count": 14,
   "metadata": {
    "scrolled": true
   },
   "outputs": [
    {
     "data": {
      "application/vnd.jupyter.widget-view+json": {
       "model_id": "7d0ff80ac37b495a8667b1c664164040",
       "version_major": 2,
       "version_minor": 0
      },
      "text/plain": [
       "Box(children=(Box(children=(Label(value='load_path'), Text(value='data/', placeholder='Enter the load path. De…"
      ]
     },
     "metadata": {},
     "output_type": "display_data"
    }
   ],
   "source": [
    "visial_form_option_2 = generate_visual_form_option_2(LOAD_PATH, str(SAVE_FIG))\n",
    "visial_form_option_2"
   ]
  },
  {
   "cell_type": "markdown",
   "metadata": {},
   "source": [
    "### Step 4: Get Visualization Params"
   ]
  },
  {
   "cell_type": "code",
   "execution_count": 26,
   "metadata": {},
   "outputs": [
    {
     "name": "stdout",
     "output_type": "stream",
     "text": [
      "visual_params_option_2: {'load_path': 'data/', 'data_timestamp': '1601959015.9952784', 'custom_ai_cp_display_lst': [], 'custom_h_cp_display_lst': [], 'save_fig': True}\n"
     ]
    }
   ],
   "source": [
    "visual_params_option_2 = generate_visual_params_option_2(visial_form_option_2)\n",
    "print(\"visual_params_option_2:\", visual_params_option_2)"
   ]
  },
  {
   "cell_type": "code",
   "execution_count": 27,
   "metadata": {},
   "outputs": [
    {
     "name": "stdout",
     "output_type": "stream",
     "text": [
      "ai_agent_display_option_2:  ['11', '21', 'tx']\n",
      "h_agent_display_option_2:  ['default', 'hl-0.2', 'hl-1.0', 'll-0.2', 'll-1.0']\n"
     ]
    }
   ],
   "source": [
    "# populate the ai_agent_displays\n",
    "ai_agent_display_option_2 = []\n",
    "\n",
    "# if you use the baseline agents, we denote them by the random seed\n",
    "ai_agent_display_option_2 = ai_agent_display_option_2 + eval_params_option_2['ppo_sp_baseline_lst']\n",
    "\n",
    "# if you use custom checkpoints, we denote them by the last 2 letters\n",
    "if len(visual_params_option_2[\"custom_ai_cp_display_lst\"]) > 0:\n",
    "    # if custom display is used, verify the lengths match up\n",
    "    assert len(visual_params_option_2[\"custom_ai_cp_display_lst\"]) == len(eval_params[\"custom_ai_cp_path_lst\"]), \"mismatch between length of display_name and path, display_name has length %d and path has length %d\" %(len(visual_params_option_2[\"custom_ai_cp_display_lst\"]), len(eval_params_option_2[\"custom_ai_cp_path_lst\"]))\n",
    "    custom_ai_display_option_2 = visual_params_option_2[\"custom_ai_cp_display_lst\"]\n",
    "else:\n",
    "    # else, use the last two letters of the experiment name\n",
    "    custom_ai_display_option_2 = [custom_cp_path.split('/')[-3][-2:] for custom_cp_path in eval_params_option_2[\"custom_ai_cp_path_lst\"]]\n",
    "\n",
    "ai_agent_display_option_2 = ai_agent_display_option_2 + custom_ai_display_option_2\n",
    "\n",
    "\n",
    "# populate the h_agent_displays\n",
    "h_agent_display_option_2 = []\n",
    "\n",
    "# if using greedy agent, append the greedy agents's names\n",
    "if eval_params_option_2['include_greedy_human']:\n",
    "    h_agent_display_option_2 = h_agent_display_option_2 + [\"default\", \"hl-0.2\", \"hl-1.0\", \"ll-0.2\", \"ll-1.0\"]\n",
    "    \n",
    "# if you use custom checkpoints, we denote them by the last 2 letters\n",
    "if len(visual_params_option_2[\"custom_h_cp_display_lst\"]) > 0:\n",
    "    # if custom display is used, verify the lengths match up\n",
    "    assert len(visual_params_option_2[\"custom_h_cp_display_lst\"]) == len(eval_params[\"custom_h_cp_path_lst\"]), \"mismatch between length of display_name and path, display_name has length %d and path has length %d\" %(len(visual_params_option_2[\"custom_h_cp_display_lst\"]), len(eval_params_option_2[\"custom_h_cp_path_lst\"]))\n",
    "    custom_ai_display_option_2 = visual_params_option_2[\"custom_h_cp_display_lst\"]\n",
    "else:\n",
    "    # else, use the last two letters of the experiment name\n",
    "    custom_ai_display_option_2 = [custom_cp_path.split('/')[-3][-2:] for custom_cp_path in eval_params_option_2[\"custom_h_cp_path_lst\"]]\n",
    "    \n",
    "print(\"ai_agent_display_option_2: \", ai_agent_display_option_2)\n",
    "print(\"h_agent_display_option_2: \", h_agent_display_option_2)"
   ]
  },
  {
   "cell_type": "markdown",
   "metadata": {},
   "source": [
    "### Step 5: Process Visualization Params"
   ]
  },
  {
   "cell_type": "code",
   "execution_count": 29,
   "metadata": {},
   "outputs": [
    {
     "data": {
      "image/png": "[encoded data removed]",
      "text/plain": [
       "<Figure size 648x324 with 1 Axes>"
      ]
     },
     "metadata": {
      "needs_background": "light"
     },
     "output_type": "display_data"
    },
    {
     "data": {
      "image/png": "[encoded data removed]",
      "text/plain": [
       "<Figure size 648x324 with 1 Axes>"
      ]
     },
     "metadata": {
      "needs_background": "light"
     },
     "output_type": "display_data"
    }
   ],
   "source": [
    "# layout name\n",
    "layout_name = eval_params_option_2[\"layout_name\"]\n",
    "\n",
    "# reassign agent label\n",
    "ai_agent_display = ai_agent_display_option_2\n",
    "\n",
    "# agumented ai_gent_display\n",
    "aug_ai_agent_display = []\n",
    "for ai in ai_agent_display:\n",
    "    aug_ai_agent_display.append(ai + \"\\n 0\")\n",
    "    aug_ai_agent_display.append(ai + \"\\n 1\")\n",
    "\n",
    "# The display name of the human model agents\n",
    "human_agent_display = h_agent_display_option_2\n",
    "\n",
    "aug_human_agent_display = []\n",
    "for h in human_agent_display:\n",
    "    aug_human_agent_display.append(h + \"\\n 1\")\n",
    "    aug_human_agent_display.append(h + \"\\n 0\")\n",
    "    \n",
    "# The path to stress_testing folder\n",
    "load_path = visual_params_option_2[\"load_path\"]\n",
    "\n",
    "# The time of the run\n",
    "time_run = visual_params_option_2[\"data_timestamp\"]\n",
    "\n",
    "# Load numpy data\n",
    "data_file = 'data' + time_run + '.npz'\n",
    "data= np.load(load_path+data_file)\n",
    "\n",
    "# Load layouts for display\n",
    "layouts_file = 'layouts' + time_run + '.pkl'\n",
    "with open(load_path+layouts_file, 'rb') as f:\n",
    "    layouts = pickle.load(f)\n",
    "layout = layouts[0]\n",
    "\n",
    "# Load numpy data into the appropriate arrays\n",
    "# index 0 because there is only 1 layout\n",
    "sparse_reward_lst = data['sparse_reward_lst'][0]\n",
    "sparse_reward_mean = data['sparse_reward_mean_lst'][0]\n",
    "sparse_reward_std = data['sparse_reward_std_lst'][0]\n",
    "\n",
    "# the factor of 2 is because we do revesed indexes too\n",
    "num_human_agent = len(human_agent_display)\n",
    "num_ai_agent = len(ai_agent_display)\n",
    "num_ai_human_pairing = 2 * num_ai_agent * num_human_agent\n",
    "\n",
    "sprase_reward_mean_paring = sparse_reward_mean[:num_ai_human_pairing]\n",
    "\n",
    "sprase_reward_mean_paring = np.reshape(sprase_reward_mean_paring, (num_ai_agent, 2 * num_human_agent)).transpose()\n",
    "by_human_model = np.zeros((num_human_agent, 2*num_ai_agent))\n",
    "\n",
    "for i in range(num_human_agent):\n",
    "    row1 = sprase_reward_mean_paring[2*i]\n",
    "    row2 = sprase_reward_mean_paring[2*i+1]\n",
    "    for j in range(num_ai_agent):\n",
    "        by_human_model[i][2*j] = row1[j]\n",
    "        by_human_model[i][2*j+1] = row2[j]\n",
    "\n",
    "# plotting by human model\n",
    "plot_matrix_aug(human_agent_display, aug_ai_agent_display, by_human_model, \"mean score\", layout_name, \"human\", save_fig=save_fig)\n",
    "\n",
    "# plottin\n",
    "plot_matrix_aug(ai_agent_display, aug_human_agent_display, sprase_reward_mean_paring.transpose(), \"mean score\", layout_name, \"ai\", save_fig=save_fig)"
   ]
  },
  {
   "cell_type": "code",
   "execution_count": null,
   "metadata": {},
   "outputs": [],
   "source": []
  }
 ],
 "metadata": {
  "kernelspec": {
   "display_name": "Python 3",
   "language": "python",
   "name": "python3"
  },
  "language_info": {
   "codemirror_mode": {
    "name": "ipython",
    "version": 3
   },
   "file_extension": ".py",
   "mimetype": "text/x-python",
   "name": "python",
   "nbconvert_exporter": "python",
   "pygments_lexer": "ipython3",
   "version": "3.7.7"
  }
 },
 "nbformat": 4,
 "nbformat_minor": 4
}
